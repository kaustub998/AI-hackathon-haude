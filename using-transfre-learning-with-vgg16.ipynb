{
 "cells": [
  {
   "cell_type": "code",
   "execution_count": 1,
   "metadata": {
    "_cell_guid": "b1076dfc-b9ad-4769-8c92-a6c4dae69d19",
    "_uuid": "8f2839f25d086af736a60e9eeb907d3b93b6e0e5",
    "execution": {
     "iopub.execute_input": "2023-01-27T19:59:19.145509Z",
     "iopub.status.busy": "2023-01-27T19:59:19.144716Z",
     "iopub.status.idle": "2023-01-27T19:59:19.165465Z",
     "shell.execute_reply": "2023-01-27T19:59:19.164555Z",
     "shell.execute_reply.started": "2023-01-27T19:59:19.145029Z"
    }
   },
   "outputs": [],
   "source": [
    "# # This Python 3 environment comes with many helpful analytics libraries installed\n",
    "# # It is defined by the kaggle/python Docker image: https://github.com/kaggle/docker-python\n",
    "# # For example, here's several helpful packages to load\n",
    "\n",
    "# import numpy as np # linear algebra\n",
    "# import pandas as pd # data processing, CSV file I/O (e.g. pd.read_csv)\n",
    "\n",
    "# # Input data files are available in the read-only \"../input/\" directory\n",
    "# # For example, running this (by clicking run or pressing Shift+Enter) will list all files under the input directory\n",
    "\n",
    "# import os\n",
    "# for dirname, _, filenames in os.walk('/kaggle/input'):\n",
    "#     for filename in filenames:\n",
    "#         print(os.path.join(dirname, filename))\n",
    "\n",
    "# # You can write up to 20GB to the current directory (/kaggle/working/) that gets preserved as output when you create a version using \"Save & Run All\" \n",
    "# # You can also write temporary files to /kaggle/temp/, but they won't be saved outside of the current session"
   ]
  },
  {
   "cell_type": "code",
   "execution_count": 2,
   "metadata": {
    "execution": {
     "iopub.execute_input": "2023-01-27T19:59:19.175056Z",
     "iopub.status.busy": "2023-01-27T19:59:19.174261Z",
     "iopub.status.idle": "2023-01-27T19:59:24.844522Z",
     "shell.execute_reply": "2023-01-27T19:59:24.843458Z",
     "shell.execute_reply.started": "2023-01-27T19:59:19.175019Z"
    }
   },
   "outputs": [],
   "source": [
    "import cv2 \n",
    "import tensorflow as tf\n",
    "from matplotlib import pyplot as plt\n",
    "import numpy as np\n",
    "import os\n",
    "from tensorflow.keras.applications.vgg16 import VGG16\n",
    "from tensorflow.keras.applications.vgg19 import VGG19"
   ]
  },
  {
   "cell_type": "code",
   "execution_count": 3,
   "metadata": {
    "execution": {
     "iopub.execute_input": "2023-01-27T19:59:24.847495Z",
     "iopub.status.busy": "2023-01-27T19:59:24.846827Z",
     "iopub.status.idle": "2023-01-27T19:59:24.855496Z",
     "shell.execute_reply": "2023-01-27T19:59:24.854193Z",
     "shell.execute_reply.started": "2023-01-27T19:59:24.847464Z"
    }
   },
   "outputs": [],
   "source": [
    "base_train_dir = \"../input/lung-disease-classification/train_/train_\"\n",
    "base_test_dir = \"../input/lung-disease-classification/test_/test_\""
   ]
  },
  {
   "cell_type": "code",
   "execution_count": 4,
   "metadata": {
    "execution": {
     "iopub.execute_input": "2023-01-27T19:59:24.858282Z",
     "iopub.status.busy": "2023-01-27T19:59:24.857366Z",
     "iopub.status.idle": "2023-01-27T19:59:24.873893Z",
     "shell.execute_reply": "2023-01-27T19:59:24.872702Z",
     "shell.execute_reply.started": "2023-01-27T19:59:24.858228Z"
    }
   },
   "outputs": [],
   "source": [
    "image_length_size = 300\n",
    "image_height_size = 200\n",
    "batch_size = 32"
   ]
  },
  {
   "cell_type": "code",
   "execution_count": 5,
   "metadata": {
    "execution": {
     "iopub.execute_input": "2023-01-27T19:59:24.877294Z",
     "iopub.status.busy": "2023-01-27T19:59:24.876769Z",
     "iopub.status.idle": "2023-01-27T19:59:24.883952Z",
     "shell.execute_reply": "2023-01-27T19:59:24.882891Z",
     "shell.execute_reply.started": "2023-01-27T19:59:24.877255Z"
    }
   },
   "outputs": [],
   "source": [
    "train_datagen = tf.keras.preprocessing.image.ImageDataGenerator(\n",
    "    rescale = 1./255,\n",
    "    rotation_range = 40,\n",
    "    shear_range = 0.2,\n",
    "    zoom_range = 0.2,\n",
    "    horizontal_flip  = True,\n",
    "    fill_mode='nearest',\n",
    "    validation_split = 0.1\n",
    ")"
   ]
  },
  {
   "cell_type": "code",
   "execution_count": 6,
   "metadata": {
    "execution": {
     "iopub.execute_input": "2023-01-27T19:59:24.886761Z",
     "iopub.status.busy": "2023-01-27T19:59:24.885577Z",
     "iopub.status.idle": "2023-01-27T19:59:30.865730Z",
     "shell.execute_reply": "2023-01-27T19:59:30.864618Z",
     "shell.execute_reply.started": "2023-01-27T19:59:24.886665Z"
    }
   },
   "outputs": [
    {
     "name": "stdout",
     "output_type": "stream",
     "text": [
      "Found 10922 images belonging to 5 classes.\n"
     ]
    }
   ],
   "source": [
    "train_generator = train_datagen.flow_from_directory(\n",
    "    base_train_dir,\n",
    "    target_size = (image_length_size,image_height_size),\n",
    "    batch_size = batch_size,\n",
    "    class_mode='sparse',\n",
    "    subset = 'training',\n",
    "    shuffle = True\n",
    ")"
   ]
  },
  {
   "cell_type": "code",
   "execution_count": 7,
   "metadata": {
    "execution": {
     "iopub.execute_input": "2023-01-27T19:59:30.868184Z",
     "iopub.status.busy": "2023-01-27T19:59:30.867467Z",
     "iopub.status.idle": "2023-01-27T19:59:30.875231Z",
     "shell.execute_reply": "2023-01-27T19:59:30.874044Z",
     "shell.execute_reply.started": "2023-01-27T19:59:30.868127Z"
    }
   },
   "outputs": [],
   "source": [
    "test_datagen = tf.keras.preprocessing.image.ImageDataGenerator(\n",
    "    rescale = 1./255,\n",
    "    rotation_range = 40,\n",
    "    shear_range = 0.2,\n",
    "    zoom_range = 0.2,\n",
    "    horizontal_flip =True,\n",
    "    fill_mode = 'nearest',\n",
    "    validation_split = 0.1\n",
    ")"
   ]
  },
  {
   "cell_type": "code",
   "execution_count": 8,
   "metadata": {
    "execution": {
     "iopub.execute_input": "2023-01-27T19:59:30.877450Z",
     "iopub.status.busy": "2023-01-27T19:59:30.876902Z",
     "iopub.status.idle": "2023-01-27T19:59:31.300600Z",
     "shell.execute_reply": "2023-01-27T19:59:31.299216Z",
     "shell.execute_reply.started": "2023-01-27T19:59:30.877411Z"
    }
   },
   "outputs": [
    {
     "name": "stdout",
     "output_type": "stream",
     "text": [
      "Found 137 images belonging to 5 classes.\n"
     ]
    }
   ],
   "source": [
    "test_generator = test_datagen.flow_from_directory(\n",
    "    base_test_dir,\n",
    "    target_size = (image_length_size,image_height_size),\n",
    "    batch_size = batch_size,\n",
    "    class_mode='sparse',\n",
    "    subset = 'validation',\n",
    "    shuffle=True\n",
    ")"
   ]
  },
  {
   "cell_type": "markdown",
   "metadata": {},
   "source": [
    "VGG 16 MODEL "
   ]
  },
  {
   "cell_type": "code",
   "execution_count": 9,
   "metadata": {
    "execution": {
     "iopub.execute_input": "2023-01-27T19:59:31.304151Z",
     "iopub.status.busy": "2023-01-27T19:59:31.303429Z",
     "iopub.status.idle": "2023-01-27T19:59:36.855489Z",
     "shell.execute_reply": "2023-01-27T19:59:36.854357Z",
     "shell.execute_reply.started": "2023-01-27T19:59:31.304103Z"
    }
   },
   "outputs": [
    {
     "name": "stderr",
     "output_type": "stream",
     "text": [
      "2023-01-27 19:59:31.407251: I tensorflow/stream_executor/cuda/cuda_gpu_executor.cc:937] successful NUMA node read from SysFS had negative value (-1), but there must be at least one NUMA node, so returning NUMA node zero\n",
      "2023-01-27 19:59:31.496637: I tensorflow/stream_executor/cuda/cuda_gpu_executor.cc:937] successful NUMA node read from SysFS had negative value (-1), but there must be at least one NUMA node, so returning NUMA node zero\n",
      "2023-01-27 19:59:31.497559: I tensorflow/stream_executor/cuda/cuda_gpu_executor.cc:937] successful NUMA node read from SysFS had negative value (-1), but there must be at least one NUMA node, so returning NUMA node zero\n",
      "2023-01-27 19:59:31.499462: I tensorflow/core/platform/cpu_feature_guard.cc:142] This TensorFlow binary is optimized with oneAPI Deep Neural Network Library (oneDNN) to use the following CPU instructions in performance-critical operations:  AVX2 AVX512F FMA\n",
      "To enable them in other operations, rebuild TensorFlow with the appropriate compiler flags.\n",
      "2023-01-27 19:59:31.499790: I tensorflow/stream_executor/cuda/cuda_gpu_executor.cc:937] successful NUMA node read from SysFS had negative value (-1), but there must be at least one NUMA node, so returning NUMA node zero\n",
      "2023-01-27 19:59:31.500547: I tensorflow/stream_executor/cuda/cuda_gpu_executor.cc:937] successful NUMA node read from SysFS had negative value (-1), but there must be at least one NUMA node, so returning NUMA node zero\n",
      "2023-01-27 19:59:31.501264: I tensorflow/stream_executor/cuda/cuda_gpu_executor.cc:937] successful NUMA node read from SysFS had negative value (-1), but there must be at least one NUMA node, so returning NUMA node zero\n",
      "2023-01-27 19:59:33.541107: I tensorflow/stream_executor/cuda/cuda_gpu_executor.cc:937] successful NUMA node read from SysFS had negative value (-1), but there must be at least one NUMA node, so returning NUMA node zero\n",
      "2023-01-27 19:59:33.542065: I tensorflow/stream_executor/cuda/cuda_gpu_executor.cc:937] successful NUMA node read from SysFS had negative value (-1), but there must be at least one NUMA node, so returning NUMA node zero\n",
      "2023-01-27 19:59:33.542831: I tensorflow/stream_executor/cuda/cuda_gpu_executor.cc:937] successful NUMA node read from SysFS had negative value (-1), but there must be at least one NUMA node, so returning NUMA node zero\n",
      "2023-01-27 19:59:33.543485: I tensorflow/core/common_runtime/gpu/gpu_device.cc:1510] Created device /job:localhost/replica:0/task:0/device:GPU:0 with 15401 MB memory:  -> device: 0, name: Tesla P100-PCIE-16GB, pci bus id: 0000:00:04.0, compute capability: 6.0\n"
     ]
    },
    {
     "name": "stdout",
     "output_type": "stream",
     "text": [
      "Downloading data from https://storage.googleapis.com/tensorflow/keras-applications/vgg16/vgg16_weights_tf_dim_ordering_tf_kernels_notop.h5\n",
      "58892288/58889256 [==============================] - 2s 0us/step\n",
      "58900480/58889256 [==============================] - 2s 0us/step\n"
     ]
    }
   ],
   "source": [
    "vgg_model = VGG16(include_top=False, #top 3 fully connected layers are discarded\n",
    "                  weights='imagenet',\n",
    "                  input_shape=(200,300,3),\n",
    "                  pooling='avg')"
   ]
  },
  {
   "cell_type": "code",
   "execution_count": 10,
   "metadata": {
    "execution": {
     "iopub.execute_input": "2023-01-27T19:59:36.859695Z",
     "iopub.status.busy": "2023-01-27T19:59:36.859351Z",
     "iopub.status.idle": "2023-01-27T19:59:36.871694Z",
     "shell.execute_reply": "2023-01-27T19:59:36.866867Z",
     "shell.execute_reply.started": "2023-01-27T19:59:36.859665Z"
    }
   },
   "outputs": [],
   "source": [
    "vgg_model.trainable = False"
   ]
  },
  {
   "cell_type": "code",
   "execution_count": 11,
   "metadata": {
    "execution": {
     "iopub.execute_input": "2023-01-27T19:59:36.876826Z",
     "iopub.status.busy": "2023-01-27T19:59:36.876521Z",
     "iopub.status.idle": "2023-01-27T19:59:37.023035Z",
     "shell.execute_reply": "2023-01-27T19:59:37.020651Z",
     "shell.execute_reply.started": "2023-01-27T19:59:36.876792Z"
    }
   },
   "outputs": [],
   "source": [
    "import tensorflow as tf"
   ]
  },
  {
   "cell_type": "code",
   "execution_count": 12,
   "metadata": {
    "execution": {
     "iopub.execute_input": "2023-01-27T19:59:37.028113Z",
     "iopub.status.busy": "2023-01-27T19:59:37.027102Z",
     "iopub.status.idle": "2023-01-27T19:59:37.419834Z",
     "shell.execute_reply": "2023-01-27T19:59:37.418145Z",
     "shell.execute_reply.started": "2023-01-27T19:59:37.028059Z"
    }
   },
   "outputs": [],
   "source": [
    "model = tf.keras.models.Sequential()\n",
    "model.add(vgg_model)\n",
    "model.add(tf.keras.layers.Flatten())\n",
    "model.add(tf.keras.layers.Dense(256,activation='relu'))\n",
    "model.add(tf.keras.layers.Dropout(0.2))\n",
    "model.add(tf.keras.layers.Dense(128,activation='relu'))\n",
    "model.add(tf.keras.layers.Dropout(0.2))\n",
    "model.add(tf.keras.layers.Dense(64,activation='relu'))\n",
    "model.add(tf.keras.layers.Dropout(0.2))\n",
    "model.add(tf.keras.layers.Dense(32,activation='relu'))\n",
    "model.add(tf.keras.layers.Dropout(0.2))\n",
    "model.add(tf.keras.layers.Dense(16,activation='relu'))\n",
    "model.add(tf.keras.layers.Dropout(0.2))\n",
    "model.add(tf.keras.layers.Dense(5,activation='softmax'))"
   ]
  },
  {
   "cell_type": "code",
   "execution_count": 13,
   "metadata": {
    "execution": {
     "iopub.execute_input": "2023-01-27T19:59:37.425310Z",
     "iopub.status.busy": "2023-01-27T19:59:37.424400Z",
     "iopub.status.idle": "2023-01-27T19:59:37.439010Z",
     "shell.execute_reply": "2023-01-27T19:59:37.437966Z",
     "shell.execute_reply.started": "2023-01-27T19:59:37.425270Z"
    }
   },
   "outputs": [
    {
     "name": "stdout",
     "output_type": "stream",
     "text": [
      "Model: \"sequential\"\n",
      "_________________________________________________________________\n",
      "Layer (type)                 Output Shape              Param #   \n",
      "=================================================================\n",
      "vgg16 (Functional)           (None, 512)               14714688  \n",
      "_________________________________________________________________\n",
      "flatten (Flatten)            (None, 512)               0         \n",
      "_________________________________________________________________\n",
      "dense (Dense)                (None, 256)               131328    \n",
      "_________________________________________________________________\n",
      "dropout (Dropout)            (None, 256)               0         \n",
      "_________________________________________________________________\n",
      "dense_1 (Dense)              (None, 128)               32896     \n",
      "_________________________________________________________________\n",
      "dropout_1 (Dropout)          (None, 128)               0         \n",
      "_________________________________________________________________\n",
      "dense_2 (Dense)              (None, 64)                8256      \n",
      "_________________________________________________________________\n",
      "dropout_2 (Dropout)          (None, 64)                0         \n",
      "_________________________________________________________________\n",
      "dense_3 (Dense)              (None, 32)                2080      \n",
      "_________________________________________________________________\n",
      "dropout_3 (Dropout)          (None, 32)                0         \n",
      "_________________________________________________________________\n",
      "dense_4 (Dense)              (None, 16)                528       \n",
      "_________________________________________________________________\n",
      "dropout_4 (Dropout)          (None, 16)                0         \n",
      "_________________________________________________________________\n",
      "dense_5 (Dense)              (None, 5)                 85        \n",
      "=================================================================\n",
      "Total params: 14,889,861\n",
      "Trainable params: 175,173\n",
      "Non-trainable params: 14,714,688\n",
      "_________________________________________________________________\n"
     ]
    }
   ],
   "source": [
    "model.summary()"
   ]
  },
  {
   "cell_type": "code",
   "execution_count": 14,
   "metadata": {
    "execution": {
     "iopub.execute_input": "2023-01-27T19:59:37.444618Z",
     "iopub.status.busy": "2023-01-27T19:59:37.443786Z",
     "iopub.status.idle": "2023-01-27T19:59:37.463926Z",
     "shell.execute_reply": "2023-01-27T19:59:37.462834Z",
     "shell.execute_reply.started": "2023-01-27T19:59:37.444579Z"
    }
   },
   "outputs": [],
   "source": [
    "model.compile(loss='sparse_categorical_crossentropy',\n",
    "              optimizer=tf.keras.optimizers.Adam(learning_rate=1e-4),\n",
    "              metrics=['accuracy'])"
   ]
  },
  {
   "cell_type": "code",
   "execution_count": 15,
   "metadata": {
    "execution": {
     "iopub.execute_input": "2023-01-27T19:59:37.471276Z",
     "iopub.status.busy": "2023-01-27T19:59:37.468259Z",
     "iopub.status.idle": "2023-01-27T21:33:46.574313Z",
     "shell.execute_reply": "2023-01-27T21:33:46.572871Z",
     "shell.execute_reply.started": "2023-01-27T19:59:37.471236Z"
    }
   },
   "outputs": [
    {
     "name": "stderr",
     "output_type": "stream",
     "text": [
      "2023-01-27 19:59:38.225670: I tensorflow/compiler/mlir/mlir_graph_optimization_pass.cc:185] None of the MLIR Optimization Passes are enabled (registered 2)\n"
     ]
    },
    {
     "name": "stdout",
     "output_type": "stream",
     "text": [
      "Epoch 1/30\n"
     ]
    },
    {
     "name": "stderr",
     "output_type": "stream",
     "text": [
      "2023-01-27 19:59:40.653623: I tensorflow/stream_executor/cuda/cuda_dnn.cc:369] Loaded cuDNN version 8005\n"
     ]
    },
    {
     "name": "stdout",
     "output_type": "stream",
     "text": [
      "300/300 [==============================] - 213s 676ms/step - loss: 1.3253 - accuracy: 0.4682 - val_loss: 1.2135 - val_accuracy: 0.4964\n",
      "Epoch 2/30\n",
      "300/300 [==============================] - 174s 578ms/step - loss: 1.2286 - accuracy: 0.5056 - val_loss: 1.0827 - val_accuracy: 0.5401\n",
      "Epoch 3/30\n",
      "300/300 [==============================] - 162s 541ms/step - loss: 1.1062 - accuracy: 0.5656 - val_loss: 0.9963 - val_accuracy: 0.6131\n",
      "Epoch 4/30\n",
      "300/300 [==============================] - 169s 564ms/step - loss: 1.0004 - accuracy: 0.6276 - val_loss: 0.9843 - val_accuracy: 0.6569\n",
      "Epoch 5/30\n",
      "300/300 [==============================] - 167s 557ms/step - loss: 0.9022 - accuracy: 0.6715 - val_loss: 0.9466 - val_accuracy: 0.6423\n",
      "Epoch 6/30\n",
      "300/300 [==============================] - 162s 540ms/step - loss: 0.8431 - accuracy: 0.6812 - val_loss: 0.9501 - val_accuracy: 0.6131\n",
      "Epoch 7/30\n",
      "300/300 [==============================] - 164s 545ms/step - loss: 0.8034 - accuracy: 0.6975 - val_loss: 0.8508 - val_accuracy: 0.6934\n",
      "Epoch 8/30\n",
      "300/300 [==============================] - 159s 529ms/step - loss: 0.7780 - accuracy: 0.7095 - val_loss: 0.9002 - val_accuracy: 0.6642\n",
      "Epoch 9/30\n",
      "300/300 [==============================] - 157s 521ms/step - loss: 0.7486 - accuracy: 0.7199 - val_loss: 0.8318 - val_accuracy: 0.6642\n",
      "Epoch 10/30\n",
      "300/300 [==============================] - 159s 528ms/step - loss: 0.7234 - accuracy: 0.7231 - val_loss: 0.7720 - val_accuracy: 0.7080\n",
      "Epoch 11/30\n",
      "300/300 [==============================] - 160s 532ms/step - loss: 0.7077 - accuracy: 0.7341 - val_loss: 0.7617 - val_accuracy: 0.7445\n",
      "Epoch 12/30\n",
      "300/300 [==============================] - 159s 530ms/step - loss: 0.6818 - accuracy: 0.7362 - val_loss: 0.7824 - val_accuracy: 0.7007\n",
      "Epoch 13/30\n",
      "300/300 [==============================] - 162s 539ms/step - loss: 0.6603 - accuracy: 0.7391 - val_loss: 0.7717 - val_accuracy: 0.6788\n",
      "Epoch 14/30\n",
      "300/300 [==============================] - 159s 529ms/step - loss: 0.6667 - accuracy: 0.7394 - val_loss: 0.7338 - val_accuracy: 0.7153\n",
      "Epoch 15/30\n",
      "300/300 [==============================] - 161s 536ms/step - loss: 0.6445 - accuracy: 0.7459 - val_loss: 0.7297 - val_accuracy: 0.7226\n",
      "Epoch 16/30\n",
      "300/300 [==============================] - 168s 560ms/step - loss: 0.6448 - accuracy: 0.7473 - val_loss: 0.7278 - val_accuracy: 0.7372\n",
      "Epoch 17/30\n",
      "300/300 [==============================] - 161s 537ms/step - loss: 0.6301 - accuracy: 0.7523 - val_loss: 0.6937 - val_accuracy: 0.7080\n",
      "Epoch 18/30\n",
      "300/300 [==============================] - 162s 540ms/step - loss: 0.6222 - accuracy: 0.7543 - val_loss: 0.6773 - val_accuracy: 0.7299\n",
      "Epoch 19/30\n",
      "300/300 [==============================] - 160s 535ms/step - loss: 0.6126 - accuracy: 0.7543 - val_loss: 0.7261 - val_accuracy: 0.7153\n",
      "Epoch 20/30\n",
      "300/300 [==============================] - 160s 534ms/step - loss: 0.6064 - accuracy: 0.7550 - val_loss: 0.7244 - val_accuracy: 0.7007\n",
      "Epoch 21/30\n",
      "300/300 [==============================] - 162s 539ms/step - loss: 0.5938 - accuracy: 0.7633 - val_loss: 0.7040 - val_accuracy: 0.7226\n",
      "Epoch 22/30\n",
      "300/300 [==============================] - 162s 540ms/step - loss: 0.5956 - accuracy: 0.7645 - val_loss: 0.6032 - val_accuracy: 0.7883\n",
      "Epoch 23/30\n",
      "300/300 [==============================] - 161s 538ms/step - loss: 0.5843 - accuracy: 0.7670 - val_loss: 0.6024 - val_accuracy: 0.7591\n",
      "Epoch 24/30\n",
      "300/300 [==============================] - 166s 552ms/step - loss: 0.5839 - accuracy: 0.7682 - val_loss: 0.6235 - val_accuracy: 0.7445\n",
      "Epoch 25/30\n",
      "300/300 [==============================] - 157s 524ms/step - loss: 0.5776 - accuracy: 0.7723 - val_loss: 0.5963 - val_accuracy: 0.7591\n",
      "Epoch 26/30\n",
      "300/300 [==============================] - 158s 526ms/step - loss: 0.5751 - accuracy: 0.7745 - val_loss: 0.7005 - val_accuracy: 0.7080\n",
      "Epoch 27/30\n",
      "300/300 [==============================] - 158s 528ms/step - loss: 0.5619 - accuracy: 0.7778 - val_loss: 0.6475 - val_accuracy: 0.7226\n",
      "Epoch 28/30\n",
      "300/300 [==============================] - 160s 533ms/step - loss: 0.5580 - accuracy: 0.7851 - val_loss: 0.6681 - val_accuracy: 0.7299\n",
      "Epoch 29/30\n",
      "300/300 [==============================] - 160s 533ms/step - loss: 0.5707 - accuracy: 0.7806 - val_loss: 0.6197 - val_accuracy: 0.7445\n",
      "Epoch 30/30\n",
      "300/300 [==============================] - 158s 525ms/step - loss: 0.5524 - accuracy: 0.7837 - val_loss: 0.6945 - val_accuracy: 0.7007\n"
     ]
    }
   ],
   "source": [
    "history = model.fit(\n",
    "            train_generator,\n",
    "            epochs=30,\n",
    "            steps_per_epoch = 300,\n",
    "    # 92k images = batch_size*steps\n",
    "    #i.e steps = 10k/32 = 312\n",
    "            #steps_per_epoch=total_train_batches//hvd.size(),\n",
    "            validation_data=test_generator,\n",
    "            verbose=1\n",
    "            )"
   ]
  },
  {
   "cell_type": "code",
   "execution_count": 16,
   "metadata": {
    "execution": {
     "iopub.execute_input": "2023-01-27T21:33:46.577162Z",
     "iopub.status.busy": "2023-01-27T21:33:46.576162Z",
     "iopub.status.idle": "2023-01-27T21:33:46.723694Z",
     "shell.execute_reply": "2023-01-27T21:33:46.722573Z",
     "shell.execute_reply.started": "2023-01-27T21:33:46.577120Z"
    }
   },
   "outputs": [],
   "source": [
    "# serialize model to JSON\n",
    "model_json = model.to_json()\n",
    "with open(\"model.json\", \"w\") as json_file:\n",
    "    json_file.write(model_json)\n",
    "# serialize weights to HDF5\n",
    "model.save_weights(\"model.h5\")"
   ]
  },
  {
   "cell_type": "code",
   "execution_count": 17,
   "metadata": {
    "execution": {
     "iopub.execute_input": "2023-01-27T21:33:46.725705Z",
     "iopub.status.busy": "2023-01-27T21:33:46.725308Z",
     "iopub.status.idle": "2023-01-27T21:33:46.905531Z",
     "shell.execute_reply": "2023-01-27T21:33:46.904408Z",
     "shell.execute_reply.started": "2023-01-27T21:33:46.725649Z"
    }
   },
   "outputs": [],
   "source": [
    "# serialize model to JSON\n",
    "model_json = model.to_json()\n",
    "with open(\"model.json\", \"w\") as json_file:\n",
    "    json_file.write(model_json)\n",
    "# serialize weights to HDF5\n",
    "model.save_weights(\"model.h5\")"
   ]
  },
  {
   "cell_type": "code",
   "execution_count": 18,
   "metadata": {
    "execution": {
     "iopub.execute_input": "2023-01-27T21:33:46.909295Z",
     "iopub.status.busy": "2023-01-27T21:33:46.908422Z",
     "iopub.status.idle": "2023-01-27T21:33:50.171692Z",
     "shell.execute_reply": "2023-01-27T21:33:50.170409Z",
     "shell.execute_reply.started": "2023-01-27T21:33:46.909244Z"
    }
   },
   "outputs": [
    {
     "name": "stdout",
     "output_type": "stream",
     "text": [
      "Downloading data from https://storage.googleapis.com/tensorflow/keras-applications/vgg19/vgg19_weights_tf_dim_ordering_tf_kernels_notop.h5\n",
      "80142336/80134624 [==============================] - 3s 0us/step\n",
      "80150528/80134624 [==============================] - 3s 0us/step\n"
     ]
    }
   ],
   "source": [
    "vgg_19 = VGG19(include_top=False, #top 3 fully connected layers are discarded\n",
    "                  weights='imagenet',\n",
    "                  input_shape=(200,300,3),\n",
    "                  pooling='avg')"
   ]
  },
  {
   "cell_type": "code",
   "execution_count": 19,
   "metadata": {
    "execution": {
     "iopub.execute_input": "2023-01-27T21:33:50.173542Z",
     "iopub.status.busy": "2023-01-27T21:33:50.173145Z",
     "iopub.status.idle": "2023-01-27T21:33:50.184961Z",
     "shell.execute_reply": "2023-01-27T21:33:50.183823Z",
     "shell.execute_reply.started": "2023-01-27T21:33:50.173504Z"
    }
   },
   "outputs": [],
   "source": [
    "vgg_19.trainable = False"
   ]
  },
  {
   "cell_type": "code",
   "execution_count": 20,
   "metadata": {
    "execution": {
     "iopub.execute_input": "2023-01-27T21:33:50.187329Z",
     "iopub.status.busy": "2023-01-27T21:33:50.186452Z",
     "iopub.status.idle": "2023-01-27T21:33:50.370244Z",
     "shell.execute_reply": "2023-01-27T21:33:50.369250Z",
     "shell.execute_reply.started": "2023-01-27T21:33:50.187091Z"
    }
   },
   "outputs": [],
   "source": [
    "model2 = tf.keras.models.Sequential()\n",
    "model2.add(vgg_19)\n",
    "model2.add(tf.keras.layers.Flatten())\n",
    "model2.add(tf.keras.layers.Dense(256,activation='relu'))\n",
    "model2.add(tf.keras.layers.Dropout(0.2))\n",
    "model2.add(tf.keras.layers.Dense(128,activation='relu'))\n",
    "model2.add(tf.keras.layers.Dropout(0.2))\n",
    "model2.add(tf.keras.layers.Dense(64,activation='relu'))\n",
    "model2.add(tf.keras.layers.Dropout(0.2))\n",
    "model2.add(tf.keras.layers.Dense(32,activation='relu'))\n",
    "model2.add(tf.keras.layers.Dropout(0.2))\n",
    "model2.add(tf.keras.layers.Dense(16,activation='relu'))\n",
    "model2.add(tf.keras.layers.Dropout(0.2))\n",
    "model2.add(tf.keras.layers.Dense(5,activation='softmax'))"
   ]
  },
  {
   "cell_type": "code",
   "execution_count": 21,
   "metadata": {
    "execution": {
     "iopub.execute_input": "2023-01-27T21:33:50.377235Z",
     "iopub.status.busy": "2023-01-27T21:33:50.374863Z",
     "iopub.status.idle": "2023-01-27T21:33:50.391653Z",
     "shell.execute_reply": "2023-01-27T21:33:50.390360Z",
     "shell.execute_reply.started": "2023-01-27T21:33:50.377190Z"
    }
   },
   "outputs": [
    {
     "name": "stdout",
     "output_type": "stream",
     "text": [
      "Model: \"sequential_1\"\n",
      "_________________________________________________________________\n",
      "Layer (type)                 Output Shape              Param #   \n",
      "=================================================================\n",
      "vgg19 (Functional)           (None, 512)               20024384  \n",
      "_________________________________________________________________\n",
      "flatten_1 (Flatten)          (None, 512)               0         \n",
      "_________________________________________________________________\n",
      "dense_6 (Dense)              (None, 256)               131328    \n",
      "_________________________________________________________________\n",
      "dropout_5 (Dropout)          (None, 256)               0         \n",
      "_________________________________________________________________\n",
      "dense_7 (Dense)              (None, 128)               32896     \n",
      "_________________________________________________________________\n",
      "dropout_6 (Dropout)          (None, 128)               0         \n",
      "_________________________________________________________________\n",
      "dense_8 (Dense)              (None, 64)                8256      \n",
      "_________________________________________________________________\n",
      "dropout_7 (Dropout)          (None, 64)                0         \n",
      "_________________________________________________________________\n",
      "dense_9 (Dense)              (None, 32)                2080      \n",
      "_________________________________________________________________\n",
      "dropout_8 (Dropout)          (None, 32)                0         \n",
      "_________________________________________________________________\n",
      "dense_10 (Dense)             (None, 16)                528       \n",
      "_________________________________________________________________\n",
      "dropout_9 (Dropout)          (None, 16)                0         \n",
      "_________________________________________________________________\n",
      "dense_11 (Dense)             (None, 5)                 85        \n",
      "=================================================================\n",
      "Total params: 20,199,557\n",
      "Trainable params: 175,173\n",
      "Non-trainable params: 20,024,384\n",
      "_________________________________________________________________\n"
     ]
    }
   ],
   "source": [
    "model2.summary()"
   ]
  },
  {
   "cell_type": "code",
   "execution_count": 22,
   "metadata": {
    "execution": {
     "iopub.execute_input": "2023-01-27T21:33:50.398728Z",
     "iopub.status.busy": "2023-01-27T21:33:50.396315Z",
     "iopub.status.idle": "2023-01-27T21:33:50.413106Z",
     "shell.execute_reply": "2023-01-27T21:33:50.411847Z",
     "shell.execute_reply.started": "2023-01-27T21:33:50.398688Z"
    }
   },
   "outputs": [],
   "source": [
    "model2.compile(loss='sparse_categorical_crossentropy',\n",
    "              optimizer=tf.keras.optimizers.Adam(learning_rate=1e-4),\n",
    "              metrics=['accuracy'])"
   ]
  },
  {
   "cell_type": "code",
   "execution_count": 23,
   "metadata": {
    "execution": {
     "iopub.execute_input": "2023-01-27T21:33:50.420740Z",
     "iopub.status.busy": "2023-01-27T21:33:50.418421Z",
     "iopub.status.idle": "2023-01-27T23:06:17.801800Z",
     "shell.execute_reply": "2023-01-27T23:06:17.800565Z",
     "shell.execute_reply.started": "2023-01-27T21:33:50.420700Z"
    }
   },
   "outputs": [
    {
     "name": "stdout",
     "output_type": "stream",
     "text": [
      "Epoch 1/30\n",
      "300/300 [==============================] - 165s 545ms/step - loss: 1.4764 - accuracy: 0.3628 - val_loss: 1.3120 - val_accuracy: 0.4964\n",
      "Epoch 2/30\n",
      "300/300 [==============================] - 166s 554ms/step - loss: 1.3412 - accuracy: 0.4677 - val_loss: 1.2412 - val_accuracy: 0.4964\n",
      "Epoch 3/30\n",
      "300/300 [==============================] - 165s 551ms/step - loss: 1.2838 - accuracy: 0.4973 - val_loss: 1.1604 - val_accuracy: 0.5255\n",
      "Epoch 4/30\n",
      "300/300 [==============================] - 163s 542ms/step - loss: 1.1913 - accuracy: 0.5593 - val_loss: 1.0627 - val_accuracy: 0.6204\n",
      "Epoch 5/30\n",
      "300/300 [==============================] - 168s 559ms/step - loss: 1.1058 - accuracy: 0.6175 - val_loss: 1.0598 - val_accuracy: 0.5839\n",
      "Epoch 6/30\n",
      "300/300 [==============================] - 162s 540ms/step - loss: 1.0218 - accuracy: 0.6554 - val_loss: 0.9919 - val_accuracy: 0.6131\n",
      "Epoch 7/30\n",
      "300/300 [==============================] - 164s 547ms/step - loss: 0.9692 - accuracy: 0.6683 - val_loss: 0.9723 - val_accuracy: 0.6496\n",
      "Epoch 8/30\n",
      "300/300 [==============================] - 165s 550ms/step - loss: 0.9269 - accuracy: 0.6785 - val_loss: 0.9414 - val_accuracy: 0.6569\n",
      "Epoch 9/30\n",
      "300/300 [==============================] - 164s 546ms/step - loss: 0.8892 - accuracy: 0.6855 - val_loss: 0.9336 - val_accuracy: 0.6496\n",
      "Epoch 10/30\n",
      "300/300 [==============================] - 164s 546ms/step - loss: 0.8631 - accuracy: 0.6867 - val_loss: 0.9063 - val_accuracy: 0.6642\n",
      "Epoch 11/30\n",
      "300/300 [==============================] - 158s 527ms/step - loss: 0.8439 - accuracy: 0.6893 - val_loss: 0.8590 - val_accuracy: 0.6788\n",
      "Epoch 12/30\n",
      "300/300 [==============================] - 160s 532ms/step - loss: 0.8297 - accuracy: 0.6934 - val_loss: 0.9058 - val_accuracy: 0.6131\n",
      "Epoch 13/30\n",
      "300/300 [==============================] - 163s 543ms/step - loss: 0.8136 - accuracy: 0.6996 - val_loss: 0.8520 - val_accuracy: 0.6788\n",
      "Epoch 14/30\n",
      "300/300 [==============================] - 163s 544ms/step - loss: 0.7825 - accuracy: 0.7094 - val_loss: 0.8354 - val_accuracy: 0.6642\n",
      "Epoch 15/30\n",
      "300/300 [==============================] - 164s 546ms/step - loss: 0.7701 - accuracy: 0.7153 - val_loss: 0.8923 - val_accuracy: 0.6569\n",
      "Epoch 16/30\n",
      "300/300 [==============================] - 169s 562ms/step - loss: 0.7561 - accuracy: 0.7221 - val_loss: 0.9966 - val_accuracy: 0.6496\n",
      "Epoch 17/30\n",
      "300/300 [==============================] - 164s 546ms/step - loss: 0.7567 - accuracy: 0.7170 - val_loss: 0.8464 - val_accuracy: 0.6715\n",
      "Epoch 18/30\n",
      "300/300 [==============================] - 164s 547ms/step - loss: 0.7411 - accuracy: 0.7206 - val_loss: 0.7868 - val_accuracy: 0.7372\n",
      "Epoch 19/30\n",
      "300/300 [==============================] - 163s 542ms/step - loss: 0.7328 - accuracy: 0.7221 - val_loss: 0.8703 - val_accuracy: 0.6788\n",
      "Epoch 20/30\n",
      "300/300 [==============================] - 164s 545ms/step - loss: 0.7177 - accuracy: 0.7283 - val_loss: 0.8438 - val_accuracy: 0.7007\n",
      "Epoch 21/30\n",
      "300/300 [==============================] - 168s 558ms/step - loss: 0.7142 - accuracy: 0.7257 - val_loss: 0.7693 - val_accuracy: 0.7445\n",
      "Epoch 22/30\n",
      "300/300 [==============================] - 162s 541ms/step - loss: 0.7092 - accuracy: 0.7302 - val_loss: 0.7136 - val_accuracy: 0.7226\n",
      "Epoch 23/30\n",
      "300/300 [==============================] - 164s 545ms/step - loss: 0.6890 - accuracy: 0.7348 - val_loss: 0.7828 - val_accuracy: 0.7153\n",
      "Epoch 24/30\n",
      "300/300 [==============================] - 165s 550ms/step - loss: 0.6916 - accuracy: 0.7302 - val_loss: 0.7726 - val_accuracy: 0.7372\n",
      "Epoch 25/30\n",
      "300/300 [==============================] - 163s 544ms/step - loss: 0.6844 - accuracy: 0.7340 - val_loss: 0.7865 - val_accuracy: 0.7080\n",
      "Epoch 26/30\n",
      "300/300 [==============================] - 159s 530ms/step - loss: 0.6735 - accuracy: 0.7393 - val_loss: 0.7365 - val_accuracy: 0.7299\n",
      "Epoch 27/30\n",
      "300/300 [==============================] - 159s 531ms/step - loss: 0.6674 - accuracy: 0.7324 - val_loss: 0.7644 - val_accuracy: 0.6861\n",
      "Epoch 28/30\n",
      "300/300 [==============================] - 162s 539ms/step - loss: 0.6737 - accuracy: 0.7371 - val_loss: 0.7651 - val_accuracy: 0.7080\n",
      "Epoch 29/30\n",
      "300/300 [==============================] - 161s 535ms/step - loss: 0.6587 - accuracy: 0.7373 - val_loss: 0.8113 - val_accuracy: 0.6715\n",
      "Epoch 30/30\n",
      "300/300 [==============================] - 164s 545ms/step - loss: 0.6523 - accuracy: 0.7403 - val_loss: 0.6810 - val_accuracy: 0.7445\n"
     ]
    }
   ],
   "source": [
    "history2 = model2.fit(\n",
    "            train_generator,\n",
    "            epochs=30,\n",
    "            steps_per_epoch = 300,\n",
    "    # 92k images = batch_size*steps\n",
    "    #i.e steps = 10k/32 = 312\n",
    "            #steps_per_epoch=total_train_batches//hvd.size(),\n",
    "            validation_data=test_generator,\n",
    "            verbose=1\n",
    "            )"
   ]
  },
  {
   "cell_type": "code",
   "execution_count": 24,
   "metadata": {
    "execution": {
     "iopub.execute_input": "2023-01-27T23:06:17.804315Z",
     "iopub.status.busy": "2023-01-27T23:06:17.803680Z",
     "iopub.status.idle": "2023-01-27T23:06:17.961427Z",
     "shell.execute_reply": "2023-01-27T23:06:17.960320Z",
     "shell.execute_reply.started": "2023-01-27T23:06:17.804274Z"
    }
   },
   "outputs": [],
   "source": [
    "# serialize model to JSON\n",
    "model2_json = model2.to_json()\n",
    "with open(\"model.json\", \"w\") as json_file:\n",
    "    json_file.write(model2_json)\n",
    "# serialize weights to HDF5\n",
    "model2.save_weights(\"model2.h5\")"
   ]
  },
  {
   "cell_type": "code",
   "execution_count": 25,
   "metadata": {
    "execution": {
     "iopub.execute_input": "2023-01-27T23:06:17.963344Z",
     "iopub.status.busy": "2023-01-27T23:06:17.962929Z",
     "iopub.status.idle": "2023-01-27T23:06:18.191899Z",
     "shell.execute_reply": "2023-01-27T23:06:18.190330Z",
     "shell.execute_reply.started": "2023-01-27T23:06:17.963303Z"
    }
   },
   "outputs": [],
   "source": [
    "# serialize model to JSON\n",
    "model2_json = model2.to_json()\n",
    "with open(\"model.json\", \"w\") as json_file:\n",
    "    json_file.write(model2_json)\n",
    "# serialize weights to HDF5\n",
    "model2.save_weights(\"model2.h5\")"
   ]
  }
 ],
 "metadata": {
  "kernelspec": {
   "display_name": "Python 3 (ipykernel)",
   "language": "python",
   "name": "python3"
  },
  "language_info": {
   "codemirror_mode": {
    "name": "ipython",
    "version": 3
   },
   "file_extension": ".py",
   "mimetype": "text/x-python",
   "name": "python",
   "nbconvert_exporter": "python",
   "pygments_lexer": "ipython3",
   "version": "3.9.13"
  }
 },
 "nbformat": 4,
 "nbformat_minor": 4
}
